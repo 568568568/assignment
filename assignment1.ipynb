{
 "cells": [
  {
   "cell_type": "code",
   "execution_count": 1,
   "metadata": {},
   "outputs": [],
   "source": [
    "from sklearn.linear_model import Ridge\n",
    "import pandas as pd\n",
    "import numpy as np"
   ]
  },
  {
   "cell_type": "code",
   "execution_count": 2,
   "metadata": {},
   "outputs": [],
   "source": [
    "train = pd.read_csv('train.csv')\n",
    "test = pd.read_csv('test.csv')\n",
    "\n",
    "y_train = train.pop('SalePrice')\n",
    "\n",
    "all_data = pd.concat((train.loc[:,'MSSubClass':'SaleCondition'], test.loc[:,'MSSubClass':'SaleCondition']), axis=0)\n",
    "miss_data = all_data.isnull().sum().sort_values(ascending=False)\n",
    "\n",
    "remove_list = ['PoolQC','MiscFeature','Alley','Fence','FireplaceQu','LotFrontage']\n",
    "for i in remove_list:\n",
    "    all_data.pop(i)\n",
    "\n",
    "col_mean = all_data.mean()\n",
    "all_data = all_data.fillna(col_mean)\n",
    "all_dummy = pd.get_dummies(all_data)\n",
    "x_train = all_dummy.iloc[:1460]\n",
    "x_test = all_dummy.iloc[1460:]\n",
    "\n",
    "\n",
    "rig = Ridge(alpha = 10)\n",
    "rig.fit(x_train,y_train)\n",
    "y_predict = rig.predict(x_test)\n",
    "submission = pd.DataFrame({'Id': test.Id, 'SalePrice': y_predict})\n",
    "submission.to_csv('submission.csv',index=False)"
   ]
  },
  {
   "cell_type": "code",
   "execution_count": null,
   "metadata": {},
   "outputs": [],
   "source": []
  }
 ],
 "metadata": {
  "kernelspec": {
   "display_name": "Python 3",
   "language": "python",
   "name": "python3"
  },
  "language_info": {
   "codemirror_mode": {
    "name": "ipython",
    "version": 3
   },
   "file_extension": ".py",
   "mimetype": "text/x-python",
   "name": "python",
   "nbconvert_exporter": "python",
   "pygments_lexer": "ipython3",
   "version": "3.6.7"
  }
 },
 "nbformat": 4,
 "nbformat_minor": 2
}
